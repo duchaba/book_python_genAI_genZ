{
  "nbformat": 4,
  "nbformat_minor": 0,
  "metadata": {
    "colab": {
      "provenance": [],
      "machine_shape": "hm",
      "gpuType": "T4",
      "toc_visible": true,
      "collapsed_sections": [
        "5lsvqIKsWblI",
        "d4hkpXXXMuvn",
        "HBbzbhJCM-z8",
        "W6AB8Aj2M_4W",
        "lgCNT7GwNBOr"
      ],
      "authorship_tag": "ABX9TyOI75tOHdQ6cZLowMzLOzHP",
      "include_colab_link": true
    },
    "kernelspec": {
      "name": "python3",
      "display_name": "Python 3"
    },
    "language_info": {
      "name": "python"
    },
    "accelerator": "GPU"
  },
  "cells": [
    {
      "cell_type": "markdown",
      "metadata": {
        "id": "view-in-github",
        "colab_type": "text"
      },
      "source": [
        "<a href=\"https://colab.research.google.com/github/duchaba/book_python_genAI_genZ/blob/master/Chapter_4_Evan_Python_GenAI_GenZ.ipynb\" target=\"_parent\"><img src=\"https://colab.research.google.com/assets/colab-badge.svg\" alt=\"Open In Colab\"/></a>"
      ]
    },
    {
      "cell_type": "markdown",
      "source": [
        "# 🌻 Welcome Reader and Coder\n",
        "---\n",
        "\n",
        "- Let's Rock and Roll"
      ],
      "metadata": {
        "id": "3WnEac7Fwdgw"
      }
    },
    {
      "cell_type": "code",
      "source": [
        "fname = 'Piggy'\n",
        "print(f'Welcome reader and coder: {fname}.')\n"
      ],
      "metadata": {
        "colab": {
          "base_uri": "https://localhost:8080/"
        },
        "id": "IJVD8p_vPR7D",
        "outputId": "485b4bd3-4331-4df3-9fba-4afea88dc245"
      },
      "execution_count": null,
      "outputs": [
        {
          "output_type": "stream",
          "name": "stdout",
          "text": [
            "Welcome reader and coder: Piggy.\n"
          ]
        }
      ]
    },
    {
      "cell_type": "markdown",
      "source": [
        "# 📗 Book Title – Python Simplified with Generative AI\n",
        "\n",
        "\n",
        "---\n",
        "\n",
        "## Introduction:\n",
        "\n",
        "The proposed book's core learning experience will be a narrative of a human and an AI\n",
        "working together to learn from a series of short, interactive projects on Python Jupyter\n",
        "Notebooks (Notebooks). Along the way, the reader will learn how to write code in Python and\n",
        "practice it on a copy of the Notebook. The lessons are functional projects recognizable to\n",
        "GenZ as everyday activities.\n",
        "\n",
        "In contrast, many Python books prioritize comprehending data structures, algorithms, and\n",
        "complex syntax before implementing them. Furthermore, the outdated teaching approach\n",
        "relies solely on one narrative and doesn't allow students to independently investigate and\n",
        "challenge the lessons.\n",
        "\n",
        "The play-first method increases confidence and connects theory, GenAI, and real-world\n",
        "application. It aligns with GenZ's preference for experiential learning, i.e., learning by doing.\n",
        "The readers will remember that this isn’t just another Python book. Instead, it is a unique\n",
        "journey where a fellow human and digital GenAI will accompany you every step. They will\n",
        "teach, demonstrate, guide, assist, and motivate as you learn Python coding. Furthermore, the\n",
        "readers can adapt the learning journey to various other college topics, including but not\n",
        "limited to science, history, art, and communication. Welcome to a learning experience\n",
        "tailored for our generation by one of our own."
      ],
      "metadata": {
        "id": "PW2-o66xPSlN"
      }
    },
    {
      "cell_type": "markdown",
      "source": [
        "# 🍎 Welcome to Chapter 4: Sorting on My Mind\n",
        "---\n",
        "\n",
        "## Structure\n",
        "\n",
        "Topics:\n",
        "1. The Sorting Foundation\n",
        "\n",
        "2. Master Aditional Algorithms\n",
        "3. Performance Insights\n",
        "3. Sorting Your Way\n",
        "\n",
        "\n",
        "\n",
        "\n"
      ],
      "metadata": {
        "id": "xmcx9tkOSqK3"
      }
    },
    {
      "cell_type": "markdown",
      "source": [
        "## 🍀 Author: Evan\n",
        "---\n"
      ],
      "metadata": {
        "id": "DHGKa52qwsp7"
      }
    },
    {
      "cell_type": "markdown",
      "source": [
        "# 🤖 Topic #1: The Sorting Foundation"
      ],
      "metadata": {
        "id": "5lsvqIKsWblI"
      }
    },
    {
      "cell_type": "markdown",
      "source": [
        "## Prompt:\n",
        "  - Explain to a beginner what sorting is, the concept of sorting, and why they are important.\n",
        "\n",
        "---\n",
        "\n",
        "### What is Sorting?\n",
        "\n",
        "Sorting is the process of arranging items in a particular order. These items can be numbers, words, or even objects. The order can be ascending (smallest to largest, A to Z) or descending (largest to smallest, Z to A).\n",
        "\n",
        "### Basic Concept of Sorting\n",
        "\n",
        "Think of sorting as organizing your closet. If you have a pile of clothes and you want to make it easier to find what you need, you might arrange them in a specific order:\n",
        "\n",
        "  - By color (all red clothes together, then blue, etc.)\n",
        "\n",
        "  - By type (all shirts together, then pants, etc.)\n",
        "  - By size (smallest to largest)\n",
        "\n",
        "Similarly, in computer science, sorting algorithms help organize data. This makes it easier to find, analyze, and use the information.\n",
        "\n",
        "###Common Sorting Algorithms\n",
        "There are several ways (algorithms) to sort items. Here are a few:\n",
        "\n",
        "  - Bubble Sort: Compares each pair of adjacent items and swaps them if they are in the wrong order. This process is repeated until the entire list is sorted.\n",
        "\n",
        "  - Selection Sort: Finds the smallest (or largest) item and places it at the beginning (or end). Then it repeats the process for the remaining items.\n",
        "\n",
        "  - Insertion Sort: Takes one item at a time and places it in its correct position among the previously sorted items.\n",
        "\n",
        "  - Merge Sort: Divides the list into smaller sublists, sorts each sublist, and then merges them back together.\n",
        "\n",
        "  - Quick Sort: Picks a 'pivot' item and partitions the other items into those less than the pivot and those greater than the pivot. It then recursively sorts the partitions.\n",
        "\n",
        "### Why is Sorting Important?\n",
        "Efficiency in Searching: When data is sorted, finding an item becomes much faster. For example, it's easier to find a name in an alphabetically sorted list.\n",
        "\n",
        "  - Data Organization: Sorted data is more readable and easier to understand. Imagine trying to read a book where the pages are out of order!\n",
        "\n",
        "  - Improving Performance: Many algorithms work more efficiently with sorted data. For instance, binary search, a fast search method, only works on sorted data.\n",
        "\n",
        "  - Data Integrity: In databases, sorting can help ensure data integrity and consistency, making it easier to manage and retrieve information.\n",
        "\n",
        "### Practical Examples\n",
        "\n",
        "  - Library: Books are sorted by genre, author, or title, making it easier to find a specific book.\n",
        "\n",
        "  - Digital Files: Files on a computer can be sorted by date, name, or type, helping you quickly locate the file you need.\n",
        "\n",
        "  - E-commerce: Products on an online store are often sorted by price, popularity, or rating to help customers find what they are looking for quickly.\n",
        "\n",
        "---\n",
        "\n",
        "In summary, sorting is a fundamental concept in organizing data, making it easier to search, understand, and use effectively.\n",
        "\n"
      ],
      "metadata": {
        "id": "Jvk2mZ4vbhxR"
      }
    },
    {
      "cell_type": "markdown",
      "source": [
        "## Prompt:\n",
        "  - Write a simple bubble shorting python function with inline documentation.\n",
        "\n",
        "  ---\n",
        "\n",
        "### Explanation of the Code:\n",
        "\n",
        "1. Function Definition: def bubble_sort(arr): defines the function named bubble_sort that takes a list arr as input.\n",
        "\n",
        "2. Initialize Variables:\n",
        "\n",
        "  - n = len(arr) gets the length of the list.\n",
        "\n",
        "3. Outer Loop: for i in range(n): iterates over each element in the list. The range reduces by one each time because the last elements are already sorted.\n",
        "\n",
        "4. Inner Loop: for j in range(0, n - i - 1): iterates over the list up to the unsorted part. It compares adjacent elements.\n",
        "\n",
        "5. Swapping Elements: if arr[j] > arr[j + 1]: checks if the current element is greater than the next element. If true, it swaps them using arr[j], arr[j + 1] = arr[j + 1], arr[j].\n",
        "\n",
        "6. Return Sorted List: The function returns the sorted list after all passes are complete.\n",
        "\n",
        "This code will sort the list example_list in ascending order and print the sorted list."
      ],
      "metadata": {
        "id": "CSuPOSzKcyoL"
      }
    },
    {
      "cell_type": "code",
      "source": [
        "# prompt: Write a simple bubble shorting python function with inline documentation.\n",
        "\n",
        "def bubble_sort(arr):\n",
        "    \"\"\"\n",
        "    Sorts an array using the Bubble Sort algorithm.\n",
        "\n",
        "    Args:\n",
        "    arr (list): A list of numbers to be sorted.\n",
        "\n",
        "    Returns:\n",
        "    list: The sorted list in ascending order.\n",
        "    \"\"\"\n",
        "    n = len(arr)  # Get the length of the array\n",
        "\n",
        "    # Traverse through all array elements\n",
        "    for i in range(n):\n",
        "        # Last i elements are already sorted, so we reduce the range\n",
        "        for j in range(0, n - i - 1):\n",
        "            # Swap if the element found is greater than the next element\n",
        "            if arr[j] > arr[j + 1]:\n",
        "                arr[j], arr[j + 1] = arr[j + 1], arr[j]\n",
        "\n",
        "    return arr\n",
        "# Example usage\n",
        "example_list = [64, 34, 25, 12, 22, 11, 90]\n",
        "sorted_list = bubble_sort(example_list)\n",
        "print(\"Sorted list:\", sorted_list)"
      ],
      "metadata": {
        "id": "QOW1B1euMrPr",
        "colab": {
          "base_uri": "https://localhost:8080/"
        },
        "outputId": "fc2b4976-5af7-4771-d1c7-d1c406906172"
      },
      "execution_count": 4,
      "outputs": [
        {
          "output_type": "stream",
          "name": "stdout",
          "text": [
            "Sorted list: [11, 12, 22, 25, 34, 64, 90]\n"
          ]
        }
      ]
    },
    {
      "cell_type": "markdown",
      "source": [
        "## Prompt:\n",
        "  - explain code line: for j in range(0, n - i - 1):\n",
        "\n",
        "---\n",
        "\n",
        "Certainly! Let's break down the line for j in range(0, n - i - 1): from the Bubble Sort function:\n",
        "\n",
        "### Context\n",
        "This line is part of the inner loop in the Bubble Sort algorithm, where the main task is to compare and potentially swap adjacent elements in the list to sort them in ascending order.\n",
        "\n",
        "### Detailed Explanation\n",
        "\n",
        "1. Loop Variable (j):\n",
        "\n",
        "  - j is the loop variable that will take on values starting from 0 up to n - i - 2.\n",
        "\n",
        "2. range(0, n - i - 1):\n",
        "\n",
        "  - range(start, stop) generates a sequence of numbers starting from start and stopping before stop.\n",
        "\n",
        "  - In this case, start is 0, and stop is n - i - 1.\n",
        "\n",
        "3. Why n - i - 1?:\n",
        "\n",
        "  - n is the length of the list.\n",
        "\n",
        "  - i is the current pass number of the outer loop.\n",
        "  - n - i - 1 ensures that the inner loop does not compare elements that are already sorted. After each pass of the outer loop, the largest element in the unsorted part \"bubbles up\" to its correct position at the end of the list.\n",
        "\n",
        "- By reducing the range of the inner loop (n - i - 1), we avoid rechecking the sorted elements at the end of the list, improving efficiency.\n",
        "\n",
        "### Example\n",
        "\n",
        "  - Consider the list arr = [64, 34, 25, 12, 22, 11, 90] with n = 7.\n",
        "\n",
        "### First Pass (i = 0):\n",
        "\n",
        "  - The inner loop runs from j = 0 to j = 5 (because n - i - 1 = 6).\n",
        "\n",
        "  - It compares and swaps elements to move the largest element (90) to the end of the list.\n",
        "\n",
        "### Second Pass (i = 1):\n",
        "\n",
        "  - The inner loop runs from j = 0 to j = 4 (because n - i - 1 = 5).\n",
        "\n",
        "  - It compares and swaps elements to move the second largest element to its correct position.\n",
        "  - And so on, until the entire list is sorted.\n",
        "\n",
        "### Visual Representation\n",
        "\n",
        "  - Here's a step-by-step visualization for the first two passes:\n",
        "\n",
        "### Initial List: [64, 34, 25, 12, 22, 11, 90]\n",
        "\n",
        "### First Pass (i = 0):\n",
        "\n",
        "  - j = 0: Compare 64 and 34, swap -> [34, 64, 25, 12, 22, 11, 90]\n",
        "\n",
        "  - j = 1: Compare 64 and 25, swap -> [34, 25, 64, 12, 22, 11, 90]\n",
        "  - j = 2: Compare 64 and 12, swap -> [34, 25, 12, 64, 22, 11, 90]\n",
        "  - j = 3: Compare 64 and 22, swap -> [34, 25, 12, 22, 64, 11, 90]\n",
        "  - j = 4: Compare 64 and 11, swap -> [34, 25, 12, 22, 11, 64, 90]\n",
        "  - j = 5: Compare 64 and 90, no swap -> [34, 25, 12, 22, 11, 64, 90]\n",
        "\n",
        "### Second Pass (i = 1):\n",
        "\n",
        "  - j = 0: Compare 34 and 25, swap -> [25, 34, 12, 22, 11, 64, 90]\n",
        "\n",
        "  - j = 1: Compare 34 and 12, swap -> [25, 12, 34, 22, 11, 64, 90]\n",
        "  - j = 2: Compare 34 and 22, swap -> [25, 12, 22, 34, 11, 64, 90]\n",
        "  - j = 3: Compare 34 and 11, swap -> [25, 12, 22, 11, 34, 64, 90]\n",
        "  - j = 4: Compare 34 and 64, no swap -> [25, 12, 22, 11, 34, 64, 90]\n",
        "\n",
        "---\n",
        "\n",
        "As you can see, by reducing the range of the inner loop each time, the algorithm efficiently sorts the list by avoiding unnecessary comparisons with already sorted elements."
      ],
      "metadata": {
        "id": "_qzvUb0Qd_3F"
      }
    },
    {
      "cell_type": "code",
      "source": [],
      "metadata": {
        "id": "9-XTQ7rIMrXZ"
      },
      "execution_count": null,
      "outputs": []
    },
    {
      "cell_type": "code",
      "source": [],
      "metadata": {
        "id": "qEcD3POwdgg7"
      },
      "execution_count": null,
      "outputs": []
    },
    {
      "cell_type": "code",
      "source": [],
      "metadata": {
        "id": "nTjx2LRHdgkp"
      },
      "execution_count": null,
      "outputs": []
    },
    {
      "cell_type": "code",
      "source": [],
      "metadata": {
        "id": "ERiQX9Sqdgn4"
      },
      "execution_count": null,
      "outputs": []
    },
    {
      "cell_type": "markdown",
      "source": [
        "# 🤖 Topic #2: Master Aditional Algorithm"
      ],
      "metadata": {
        "id": "d4hkpXXXMuvn"
      }
    },
    {
      "cell_type": "markdown",
      "source": [
        "## Sorting Algorithm:\n",
        "  - There are 40+ sorting agorithms, but we focus on:\n",
        "\n",
        "  1. Selection Sort: Finds the smallest (or largest) item and places it at the beginning (or end). Then it repeats the process for the remaining items.\n",
        "\n",
        "  2. Insertion Sort: Takes one item at a time and places it in its correct position among the previously sorted items.\n",
        "\n",
        "  3. Merge Sort: Divides the list into smaller sublists, sorts each sublist, and then merges them back together.\n",
        "\n",
        "  4. Quick Sort: Picks a 'pivot' item and partitions the other items into those less than the pivot and those greater than the pivot. It then recursively sorts the partitions.\n",
        "\n",
        "  ---\n",
        "  "
      ],
      "metadata": {
        "id": "14KQR2p3i5Zn"
      }
    },
    {
      "cell_type": "markdown",
      "source": [
        "## Prompt Selection Sort:\n",
        "  - write a python function with documentation for a Selection Sort.\n",
        "\n",
        "---\n",
        "\n",
        "## Explanation of the Code:\n",
        "\n",
        "1. Function Definition:\n",
        "  - def selection_sort(arr): defines the function named selection_sort that takes a list arr as input.\n",
        "\n",
        "2. Initialize Variables:\n",
        "\n",
        "  - n = len(arr) gets the length of the list.\n",
        "\n",
        "3. Outer Loop: for i in range(n): iterates over each element in the list.\n",
        "\n",
        "4. Find the Minimum Element:\n",
        "\n",
        "  - min_idx = i initializes the index of the minimum element to the current position.\n",
        "\n",
        "  - for j in range(i+1, n): iterates over the unsorted portion of the list to find the minimum element.\n",
        "  - if arr[j] < arr[min_idx]: updates min_idx if a smaller element is found.\n",
        "\n",
        "5. Swap Elements:\n",
        "\n",
        "  - arr[i], arr[min_idx] = arr[min_idx], arr[i] swaps the found minimum element with the first element of the unsorted part of the list.\n",
        "\n",
        "6. Return Sorted List: The function returns the sorted list after all passes are complete.\n",
        "\n",
        "---\n",
        "\n",
        "This code will sort the list example_list in ascending order and print the sorted list."
      ],
      "metadata": {
        "id": "IQ3MjQlEsRxR"
      }
    },
    {
      "cell_type": "code",
      "source": [
        "# prompt: write a python function with documentation for a Selection Sort.\n",
        "\n",
        "def selection_sort(arr):\n",
        "    \"\"\"\n",
        "    Sorts an array using the Selection Sort algorithm.\n",
        "\n",
        "    Args:\n",
        "    arr (list): A list of numbers to be sorted.\n",
        "\n",
        "    Returns:\n",
        "    list: The sorted list in ascending order.\n",
        "    \"\"\"\n",
        "    n = len(arr)  # Get the length of the array\n",
        "\n",
        "    # Traverse through all array elements\n",
        "    for i in range(n):\n",
        "        # Find the minimum element in the remaining unsorted array\n",
        "        min_idx = i\n",
        "        for j in range(i+1, n):\n",
        "            if arr[j] < arr[min_idx]:\n",
        "                min_idx = j\n",
        "\n",
        "        # Swap the found minimum element with the first element of the unsorted array\n",
        "        arr[i], arr[min_idx] = arr[min_idx], arr[i]\n",
        "\n",
        "    return arr\n",
        "\n",
        "# Example usage\n",
        "example_list = [64, 34, 25, 12, 22, 11, 90]\n",
        "sorted_list = selection_sort(example_list)\n",
        "print(\"Sorted list:\", sorted_list)\n"
      ],
      "metadata": {
        "colab": {
          "base_uri": "https://localhost:8080/"
        },
        "id": "nD7WVIOvq8HI",
        "outputId": "be04c507-d800-4f18-9d19-4bf9a4cce396"
      },
      "execution_count": 5,
      "outputs": [
        {
          "output_type": "stream",
          "name": "stdout",
          "text": [
            "Sorted list: [11, 12, 22, 25, 34, 64, 90]\n"
          ]
        }
      ]
    },
    {
      "cell_type": "markdown",
      "source": [
        "## Prompt Insertion Sort:\n",
        "  - write a python function with documentation for a Insertion Sort.\n",
        "\n",
        "---"
      ],
      "metadata": {
        "id": "sBOLLz1htK30"
      }
    },
    {
      "cell_type": "code",
      "source": [],
      "metadata": {
        "id": "aM8rJK0RMuv1"
      },
      "execution_count": null,
      "outputs": []
    },
    {
      "cell_type": "code",
      "source": [],
      "metadata": {
        "id": "PBGyo7HRMuv2"
      },
      "execution_count": null,
      "outputs": []
    },
    {
      "cell_type": "markdown",
      "source": [
        "## Prompt Merge Sort:\n",
        "  - write a python function with documentation for a Merge Sort.\n",
        "\n",
        "---"
      ],
      "metadata": {
        "id": "FeWBPlDPtRM_"
      }
    },
    {
      "cell_type": "code",
      "source": [],
      "metadata": {
        "id": "FNhmc0uVtRXl"
      },
      "execution_count": null,
      "outputs": []
    },
    {
      "cell_type": "code",
      "source": [],
      "metadata": {
        "id": "XnrGPFlRtRam"
      },
      "execution_count": null,
      "outputs": []
    },
    {
      "cell_type": "markdown",
      "source": [
        "## Prompt Quick Sort:\n",
        "  - write a python function with documentation for a Quick Sort.\n",
        "\n",
        "---"
      ],
      "metadata": {
        "id": "svb4gD4htXrk"
      }
    },
    {
      "cell_type": "code",
      "source": [],
      "metadata": {
        "id": "liFGUbNjtRte"
      },
      "execution_count": null,
      "outputs": []
    },
    {
      "cell_type": "code",
      "source": [],
      "metadata": {
        "id": "4jxGeXdwMuv2"
      },
      "execution_count": null,
      "outputs": []
    },
    {
      "cell_type": "markdown",
      "source": [
        "# 🤖 Topic #3: Performance Insights"
      ],
      "metadata": {
        "id": "W6AB8Aj2M_4W"
      }
    },
    {
      "cell_type": "code",
      "source": [
        "# prompt: create a python array with range from 1 to 100,000 and randomize them.\n",
        "\n",
        "import random\n",
        "\n",
        "# Create an array with range from 1 to 100,000\n",
        "big_arr = list(range(1, 100001))\n",
        "\n",
        "# Randomize (shuffle) the array\n",
        "random.shuffle(big_arr)\n",
        "\n",
        "# Example to show a portion of the shuffled array\n",
        "print(big_arr[:5])  # Print the first 5 elements to verify"
      ],
      "metadata": {
        "id": "iPzGzRh8M_4X",
        "colab": {
          "base_uri": "https://localhost:8080/"
        },
        "outputId": "707eecc0-728b-442a-ba63-654ffd9f7498"
      },
      "execution_count": 10,
      "outputs": [
        {
          "output_type": "stream",
          "name": "stdout",
          "text": [
            "[57278, 24269, 66716, 51705, 32165]\n"
          ]
        }
      ]
    },
    {
      "cell_type": "markdown",
      "source": [
        "## prompt:\n",
        "\n",
        "  - explain sorting O(n) and other complexity and which is better?\n",
        "\n",
        "  ---\n",
        "\n",
        "  **You need to ask the above question to GTP-4 and write about the sorting complexity.**"
      ],
      "metadata": {
        "id": "i2JXUmLpvfXv"
      }
    },
    {
      "cell_type": "code",
      "source": [
        "# prompt use notebook timer to see how long each alogritm take\n",
        "%%time\n",
        "bubble_arr = bubble_sort(big_arr)\n",
        "print(bubble_arr[:5])"
      ],
      "metadata": {
        "id": "7CcBnur9M_4X",
        "colab": {
          "base_uri": "https://localhost:8080/"
        },
        "outputId": "c4956be5-0b7e-4e2d-e7a7-3836530e9f70"
      },
      "execution_count": 12,
      "outputs": [
        {
          "output_type": "stream",
          "name": "stdout",
          "text": [
            "[1, 2, 3, 4, 5]\n",
            "CPU times: user 8min 23s, sys: 822 ms, total: 8min 23s\n",
            "Wall time: 8min 23s\n"
          ]
        }
      ]
    },
    {
      "cell_type": "code",
      "source": [
        "# prompt use notebook timer to see how long each alogritm take\n",
        "%%time\n",
        "selection_arr = selection_sort(big_arr)\n",
        "print(selection_arr[:5])"
      ],
      "metadata": {
        "id": "xk0R5urYM_4Y",
        "colab": {
          "base_uri": "https://localhost:8080/"
        },
        "outputId": "2dd9a477-68a7-407b-a6df-af931320c026"
      },
      "execution_count": 11,
      "outputs": [
        {
          "output_type": "stream",
          "name": "stdout",
          "text": [
            "[1, 2, 3, 4, 5]\n",
            "CPU times: user 6min 46s, sys: 614 ms, total: 6min 47s\n",
            "Wall time: 6min 46s\n"
          ]
        }
      ]
    },
    {
      "cell_type": "code",
      "source": [
        "# prompt use notebook timer to see how long each alogritm take\n",
        "%%time\n",
        "insertion_arr = insertion_sort(big_arr)\n",
        "print(insertion_arr[:5])"
      ],
      "metadata": {
        "id": "hYNm4nUY7xNH"
      },
      "execution_count": null,
      "outputs": []
    },
    {
      "cell_type": "code",
      "source": [
        "# prompt use notebook timer to see how long each alogritm take\n",
        "%%time\n",
        "merge_arr = merge_sort(big_arr)\n",
        "print(merge_arr[:5])"
      ],
      "metadata": {
        "id": "Sw5t1HP37xXJ"
      },
      "execution_count": null,
      "outputs": []
    },
    {
      "cell_type": "code",
      "source": [
        "# prompt use notebook timer to see how long each alogritm take\n",
        "%%time\n",
        "merge_arr = merge_sort(big_arr)\n",
        "print(merge_arr[:5])"
      ],
      "metadata": {
        "id": "SBOQ9NoQ7x03"
      },
      "execution_count": null,
      "outputs": []
    },
    {
      "cell_type": "code",
      "source": [
        "# store the time\n",
        "bubble_time = (8*60) + 23\n",
        "selection_time = (6*60) + 46\n",
        "# Do it for other time\n",
        "insertion_time = (4*60) + 57 # THIS IS A FAKE TIME, USE REAL TIME\n",
        "merge_time = (3*60) + 17 # THIS IS A FAKE TIME, USE REAL TIME\n",
        "quick_time = (2*60) + 22 # THIS IS A FAKE TIME, USE REAL TIME\n",
        "#\n",
        "print(bubble_time)\n",
        "print(selection_time)\n",
        "print(insertion_time)\n",
        "print(merge_time)\n",
        "print(quick_time)"
      ],
      "metadata": {
        "colab": {
          "base_uri": "https://localhost:8080/"
        },
        "id": "iq334loFx1mW",
        "outputId": "956e9677-27f3-414e-e479-f2515d6fe18a"
      },
      "execution_count": 13,
      "outputs": [
        {
          "output_type": "stream",
          "name": "stdout",
          "text": [
            "503\n",
            "406\n",
            "297\n",
            "197\n",
            "142\n"
          ]
        }
      ]
    },
    {
      "cell_type": "code",
      "source": [
        "# prompt: Write a function with documentation to import the following numbers\n",
        "# into Pandas' data frame and plot a bar chart:\n",
        "# Bubble: 503, Selection: 406, Insertion: 297, Merge: 197, and Quick: 142.\n",
        "\n",
        "import pandas as pd\n",
        "import matplotlib.pyplot as plt\n",
        "\n",
        "def plot_sorting_algorithms():\n",
        "    \"\"\"\n",
        "    Creates a DataFrame with sorting algorithm names and their respective values,\n",
        "    then plots a bar chart to visualize the data.\n",
        "\n",
        "    The data includes:\n",
        "    - Bubble Sort: 503\n",
        "    - Selection Sort: 406\n",
        "    - Insertion Sort: 297\n",
        "    - Merge Sort: 197\n",
        "    - Quick Sort: 142\n",
        "    \"\"\"\n",
        "    # Data for the sorting algorithms\n",
        "    data = {\n",
        "        'Algorithm': ['Bubble', 'Selection', 'Insertion', 'Merge', 'Quick'],\n",
        "        'Value': [503, 406, 297, 197, 142]\n",
        "    }\n",
        "\n",
        "    # Create DataFrame\n",
        "    df = pd.DataFrame(data)\n",
        "\n",
        "    # Plot bar chart\n",
        "    plt.figure(figsize=(10, 6))\n",
        "    plt.bar(df['Algorithm'], df['Value'], color='skyblue')\n",
        "    plt.xlabel('Sorting Algorithm')\n",
        "    plt.ylabel('Value')\n",
        "    plt.title('Performance of Sorting Algorithms')\n",
        "    plt.show()\n",
        "\n",
        "# Call the function to plot the bar chart\n",
        "plot_sorting_algorithms()\n"
      ],
      "metadata": {
        "colab": {
          "base_uri": "https://localhost:8080/",
          "height": 564
        },
        "id": "HHa9gl9Vx1pu",
        "outputId": "a81e27b6-4d3a-43ee-ea72-401d6cee41f4"
      },
      "execution_count": 14,
      "outputs": [
        {
          "output_type": "display_data",
          "data": {
            "text/plain": [
              "<Figure size 1000x600 with 1 Axes>"
            ],
            "image/png": "[encoded data removed]"
          },
          "metadata": {}
        }
      ]
    },
    {
      "cell_type": "code",
      "source": [],
      "metadata": {
        "id": "nNGQuDkVx1tK"
      },
      "execution_count": null,
      "outputs": []
    },
    {
      "cell_type": "markdown",
      "source": [
        "# 🤖 Topic 4: Sorting Your Way"
      ],
      "metadata": {
        "id": "lgCNT7GwNBOr"
      }
    },
    {
      "cell_type": "code",
      "source": [],
      "metadata": {
        "id": "xv8t_x2MNBOs"
      },
      "execution_count": null,
      "outputs": []
    },
    {
      "cell_type": "code",
      "source": [],
      "metadata": {
        "id": "-by7cUJvNBOs"
      },
      "execution_count": null,
      "outputs": []
    },
    {
      "cell_type": "code",
      "source": [],
      "metadata": {
        "id": "fPTDXQujNBOt"
      },
      "execution_count": null,
      "outputs": []
    }
  ]
}