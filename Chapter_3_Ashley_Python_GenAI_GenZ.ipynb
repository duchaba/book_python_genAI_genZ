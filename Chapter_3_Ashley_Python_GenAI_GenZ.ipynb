{
  "nbformat": 4,
  "nbformat_minor": 0,
  "metadata": {
    "colab": {
      "provenance": [],
      "machine_shape": "hm",
      "gpuType": "T4",
      "toc_visible": true,
      "collapsed_sections": [
        "5lsvqIKsWblI",
        "d4hkpXXXMuvn",
        "HBbzbhJCM-z8",
        "W6AB8Aj2M_4W",
        "lgCNT7GwNBOr"
      ],
      "authorship_tag": "ABX9TyNG7xJo3NCaWhMI04Ga68BT",
      "include_colab_link": true
    },
    "kernelspec": {
      "name": "python3",
      "display_name": "Python 3"
    },
    "language_info": {
      "name": "python"
    },
    "accelerator": "GPU"
  },
  "cells": [
    {
      "cell_type": "markdown",
      "metadata": {
        "id": "view-in-github",
        "colab_type": "text"
      },
      "source": [
        "<a href=\"https://colab.research.google.com/github/duchaba/book_python_genAI_genZ/blob/master/Chapter_3_Ashley_Python_GenAI_GenZ.ipynb\" target=\"_parent\"><img src=\"https://colab.research.google.com/assets/colab-badge.svg\" alt=\"Open In Colab\"/></a>"
      ]
    },
    {
      "cell_type": "markdown",
      "source": [
        "# 🌻 Welcome Reader and Coder\n",
        "---\n",
        "\n",
        "- Let's Rock and Roll"
      ],
      "metadata": {
        "id": "3WnEac7Fwdgw"
      }
    },
    {
      "cell_type": "code",
      "source": [
        "fname = 'Piggy'\n",
        "print(f'Welcome reader and coder: {fname}.')\n"
      ],
      "metadata": {
        "colab": {
          "base_uri": "https://localhost:8080/"
        },
        "id": "IJVD8p_vPR7D",
        "outputId": "485b4bd3-4331-4df3-9fba-4afea88dc245"
      },
      "execution_count": null,
      "outputs": [
        {
          "output_type": "stream",
          "name": "stdout",
          "text": [
            "Welcome reader and coder: Piggy.\n"
          ]
        }
      ]
    },
    {
      "cell_type": "markdown",
      "source": [
        "# 📗 Book Title – Python Simplified with Generative AI\n",
        "\n",
        "\n",
        "---\n",
        "\n",
        "## Introduction:\n",
        "\n",
        "The proposed book's core learning experience will be a narrative of a human and an AI\n",
        "working together to learn from a series of short, interactive projects on Python Jupyter\n",
        "Notebooks (Notebooks). Along the way, the reader will learn how to write code in Python and\n",
        "practice it on a copy of the Notebook. The lessons are functional projects recognizable to\n",
        "GenZ as everyday activities.\n",
        "\n",
        "In contrast, many Python books prioritize comprehending data structures, algorithms, and\n",
        "complex syntax before implementing them. Furthermore, the outdated teaching approach\n",
        "relies solely on one narrative and doesn't allow students to independently investigate and\n",
        "challenge the lessons.\n",
        "\n",
        "The play-first method increases confidence and connects theory, GenAI, and real-world\n",
        "application. It aligns with GenZ's preference for experiential learning, i.e., learning by doing.\n",
        "The readers will remember that this isn’t just another Python book. Instead, it is a unique\n",
        "journey where a fellow human and digital GenAI will accompany you every step. They will\n",
        "teach, demonstrate, guide, assist, and motivate as you learn Python coding. Furthermore, the\n",
        "readers can adapt the learning journey to various other college topics, including but not\n",
        "limited to science, history, art, and communication. Welcome to a learning experience\n",
        "tailored for our generation by one of our own."
      ],
      "metadata": {
        "id": "PW2-o66xPSlN"
      }
    },
    {
      "cell_type": "markdown",
      "source": [
        "# 🍎 Welcome to Chapter 3: HuggingFace Deployment\n",
        "---\n",
        "\n",
        "## Structure\n",
        "\n",
        "Topics:\n",
        "1. Python Fundamentals And GenAI As Coding Companion\n",
        "\n",
        "2. The Calculator Code Reveal\n",
        "3. GenAI To The Rescue!\n",
        "4. GenAI Enhancements\n",
        "5. Chart Your Course\n",
        "\n",
        "\n"
      ],
      "metadata": {
        "id": "xmcx9tkOSqK3"
      }
    },
    {
      "cell_type": "markdown",
      "source": [
        "## 🍀 Author: Duc\n",
        "---\n"
      ],
      "metadata": {
        "id": "DHGKa52qwsp7"
      }
    },
    {
      "cell_type": "markdown",
      "source": [
        "# 🤖 Topic #1: Python Fundamentals And GenAI As Coding Companion"
      ],
      "metadata": {
        "id": "5lsvqIKsWblI"
      }
    },
    {
      "cell_type": "code",
      "source": [],
      "metadata": {
        "id": "QOW1B1euMrPr"
      },
      "execution_count": null,
      "outputs": []
    },
    {
      "cell_type": "code",
      "source": [],
      "metadata": {
        "id": "Q5OLAafaMrS_"
      },
      "execution_count": null,
      "outputs": []
    },
    {
      "cell_type": "code",
      "source": [],
      "metadata": {
        "id": "9-XTQ7rIMrXZ"
      },
      "execution_count": null,
      "outputs": []
    },
    {
      "cell_type": "markdown",
      "source": [
        "# 🤖 Topic #2: The Calculator Code Reveal"
      ],
      "metadata": {
        "id": "d4hkpXXXMuvn"
      }
    },
    {
      "cell_type": "code",
      "source": [],
      "metadata": {
        "id": "aM8rJK0RMuv1"
      },
      "execution_count": null,
      "outputs": []
    },
    {
      "cell_type": "code",
      "source": [],
      "metadata": {
        "id": "PBGyo7HRMuv2"
      },
      "execution_count": null,
      "outputs": []
    },
    {
      "cell_type": "code",
      "source": [],
      "metadata": {
        "id": "4jxGeXdwMuv2"
      },
      "execution_count": null,
      "outputs": []
    },
    {
      "cell_type": "markdown",
      "source": [
        "# 🤖 Topic #3: GenAI To The Rescue!"
      ],
      "metadata": {
        "id": "HBbzbhJCM-z8"
      }
    },
    {
      "cell_type": "code",
      "source": [],
      "metadata": {
        "id": "0dSvqMO4M-0E"
      },
      "execution_count": null,
      "outputs": []
    },
    {
      "cell_type": "code",
      "source": [],
      "metadata": {
        "id": "MuDyNPwxM-0E"
      },
      "execution_count": null,
      "outputs": []
    },
    {
      "cell_type": "code",
      "source": [],
      "metadata": {
        "id": "uDsGQJ7xM-0F"
      },
      "execution_count": null,
      "outputs": []
    },
    {
      "cell_type": "markdown",
      "source": [
        "# 🤖 Topic #4: GenAI Enhancements"
      ],
      "metadata": {
        "id": "W6AB8Aj2M_4W"
      }
    },
    {
      "cell_type": "code",
      "source": [],
      "metadata": {
        "id": "iPzGzRh8M_4X"
      },
      "execution_count": null,
      "outputs": []
    },
    {
      "cell_type": "code",
      "source": [],
      "metadata": {
        "id": "7CcBnur9M_4X"
      },
      "execution_count": null,
      "outputs": []
    },
    {
      "cell_type": "code",
      "source": [],
      "metadata": {
        "id": "xk0R5urYM_4Y"
      },
      "execution_count": null,
      "outputs": []
    },
    {
      "cell_type": "markdown",
      "source": [
        "# 🤖 Topic #5: Chart Your Course"
      ],
      "metadata": {
        "id": "lgCNT7GwNBOr"
      }
    },
    {
      "cell_type": "code",
      "source": [],
      "metadata": {
        "id": "xv8t_x2MNBOs"
      },
      "execution_count": null,
      "outputs": []
    },
    {
      "cell_type": "code",
      "source": [],
      "metadata": {
        "id": "-by7cUJvNBOs"
      },
      "execution_count": null,
      "outputs": []
    },
    {
      "cell_type": "code",
      "source": [],
      "metadata": {
        "id": "fPTDXQujNBOt"
      },
      "execution_count": null,
      "outputs": []
    }
  ]
}