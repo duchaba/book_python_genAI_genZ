{
  "nbformat": 4,
  "nbformat_minor": 0,
  "metadata": {
    "colab": {
      "provenance": [],
      "machine_shape": "hm",
      "gpuType": "T4",
      "toc_visible": true,
      "collapsed_sections": [
        "5lsvqIKsWblI",
        "d4hkpXXXMuvn",
        "HBbzbhJCM-z8",
        "W6AB8Aj2M_4W",
        "lgCNT7GwNBOr"
      ],
      "authorship_tag": "ABX9TyP14IqbIuXJWs6Eaa1Bv92w",
      "include_colab_link": true
    },
    "kernelspec": {
      "name": "python3",
      "display_name": "Python 3"
    },
    "language_info": {
      "name": "python"
    },
    "accelerator": "GPU"
  },
  "cells": [
    {
      "cell_type": "markdown",
      "metadata": {
        "id": "view-in-github",
        "colab_type": "text"
      },
      "source": [
        "<a href=\"https://colab.research.google.com/github/duchaba/book_python_genAI_genZ/blob/master/Chapter_7_Duc_Python_GenAI_GenZ.ipynb\" target=\"_parent\"><img src=\"https://colab.research.google.com/assets/colab-badge.svg\" alt=\"Open In Colab\"/></a>"
      ]
    },
    {
      "cell_type": "markdown",
      "source": [
        "# 🌻 Welcome Reader and Coder\n",
        "---\n",
        "\n",
        "- Let's Rock and Roll"
      ],
      "metadata": {
        "id": "3WnEac7Fwdgw"
      }
    },
    {
      "cell_type": "code",
      "source": [
        "fname = 'Piggy'\n",
        "print(f'Welcome reader and coder: {fname}.')\n"
      ],
      "metadata": {
        "colab": {
          "base_uri": "https://localhost:8080/"
        },
        "id": "IJVD8p_vPR7D",
        "outputId": "485b4bd3-4331-4df3-9fba-4afea88dc245"
      },
      "execution_count": null,
      "outputs": [
        {
          "output_type": "stream",
          "name": "stdout",
          "text": [
            "Welcome reader and coder: Piggy.\n"
          ]
        }
      ]
    },
    {
      "cell_type": "markdown",
      "source": [
        "# 📗 Book Title – Python Simplified with Generative AI\n",
        "\n",
        "\n",
        "---\n",
        "\n",
        "## Introduction:\n",
        "\n",
        "In the bustling corridors of the university, amidst the chatter of new ideas and the rustle of\n",
        "textbooks, there is a common thread of a challenge looming before us. As college students, we\n",
        "faced the daunting task of navigating the digital landscape, such as learning about complex\n",
        "programming code, internalizing AI paradigms, and expanding our personal growth.\n",
        "\n",
        "However, most existing books fail to connect with us. The books seem distant because they\n",
        "were authored by academics and industry professionals who disconnected from the\n",
        "challenges of the new Generative Artificial Intelligence (GenAI) era in education. Hence, we\n",
        "propose to craft this book, written by college students for college students, with a coauthor\n",
        "who is a renowned AI leader and an author of the book “Data Augmentation with Python.”\n",
        "\n",
        "We are a generation that thrives on immediacy and experiential learning. The GenZ, our lot,\n",
        "don’t just learn; we ‘do,’ we ‘experience.’ And that’s where GenAI, such as GPT-4’s Copilot,\n",
        "Meta Code Llama, or Google Gemini, emerges as a beacon. Drawing inspiration from the\n",
        "growth of AI in modern learning, GenAI is your personalized coach or a teaching assistant\n",
        "always by your side.\n",
        "\n",
        "The proposed book's core learning experience will be a narrative of a human and an AI\n",
        "working together to learn from a series of short, interactive projects on Python Jupyter\n",
        "Notebooks (Notebooks). Along the way, the reader will learn how to write code in Python and\n",
        "practice it on a copy of the Notebook. The lessons are functional projects recognizable to\n",
        "GenZ as everyday activities.\n",
        "\n",
        "In contrast, many Python books prioritize comprehending data structures, algorithms, and\n",
        "complex syntax before implementing them. Furthermore, the outdated teaching approach\n",
        "relies solely on one narrative and doesn't allow students to independently investigate and\n",
        "challenge the lessons.\n",
        "\n",
        "The play-first method increases confidence and connects theory, GenAI, and real-world\n",
        "application. It aligns with GenZ's preference for experiential learning, i.e., learning by doing.\n",
        "The readers will remember that this isn’t just another Python book. Instead, it is a unique\n",
        "journey where a fellow human and digital GenAI will accompany you every step. They will\n",
        "teach, demonstrate, guide, assist, and motivate as you learn Python coding. Furthermore, the\n",
        "readers can adapt the learning journey to various other college topics, including but not\n",
        "limited to science, history, art, and communication. Welcome to a learning experience\n",
        "tailored for our generation by one of our own."
      ],
      "metadata": {
        "id": "PW2-o66xPSlN"
      }
    },
    {
      "cell_type": "markdown",
      "source": [
        "# 🍎 Welcome to Chapter 7: HuggingFace Deployment\n",
        "---\n",
        "\n",
        "## Structure\n",
        "\n",
        "Topics:\n",
        "1. Understand The Dynamic Trio\n",
        "\n",
        "1. Deployment\n",
        "1. Magnify HuggingFace\n",
        "1. Design with Gradio\n",
        "2. The Joy of Launch\n",
        "\n"
      ],
      "metadata": {
        "id": "xmcx9tkOSqK3"
      }
    },
    {
      "cell_type": "markdown",
      "source": [
        "## 🍀 Author: Duc\n",
        "---\n"
      ],
      "metadata": {
        "id": "DHGKa52qwsp7"
      }
    },
    {
      "cell_type": "markdown",
      "source": [
        "# 🤖 Topic #1: Understand The Dynamic Trio"
      ],
      "metadata": {
        "id": "5lsvqIKsWblI"
      }
    },
    {
      "cell_type": "code",
      "source": [],
      "metadata": {
        "id": "QOW1B1euMrPr"
      },
      "execution_count": null,
      "outputs": []
    },
    {
      "cell_type": "code",
      "source": [],
      "metadata": {
        "id": "Q5OLAafaMrS_"
      },
      "execution_count": null,
      "outputs": []
    },
    {
      "cell_type": "code",
      "source": [],
      "metadata": {
        "id": "9-XTQ7rIMrXZ"
      },
      "execution_count": null,
      "outputs": []
    },
    {
      "cell_type": "markdown",
      "source": [
        "# 🤖 Topic #2: Deployment"
      ],
      "metadata": {
        "id": "d4hkpXXXMuvn"
      }
    },
    {
      "cell_type": "code",
      "source": [],
      "metadata": {
        "id": "aM8rJK0RMuv1"
      },
      "execution_count": null,
      "outputs": []
    },
    {
      "cell_type": "code",
      "source": [],
      "metadata": {
        "id": "PBGyo7HRMuv2"
      },
      "execution_count": null,
      "outputs": []
    },
    {
      "cell_type": "code",
      "source": [],
      "metadata": {
        "id": "4jxGeXdwMuv2"
      },
      "execution_count": null,
      "outputs": []
    },
    {
      "cell_type": "markdown",
      "source": [
        "# 🤖 Topic #3: Magnify HuggingFace"
      ],
      "metadata": {
        "id": "HBbzbhJCM-z8"
      }
    },
    {
      "cell_type": "code",
      "source": [],
      "metadata": {
        "id": "0dSvqMO4M-0E"
      },
      "execution_count": null,
      "outputs": []
    },
    {
      "cell_type": "code",
      "source": [],
      "metadata": {
        "id": "MuDyNPwxM-0E"
      },
      "execution_count": null,
      "outputs": []
    },
    {
      "cell_type": "code",
      "source": [],
      "metadata": {
        "id": "uDsGQJ7xM-0F"
      },
      "execution_count": null,
      "outputs": []
    },
    {
      "cell_type": "markdown",
      "source": [
        "# 🤖 Topic #4: Design with Gradio"
      ],
      "metadata": {
        "id": "W6AB8Aj2M_4W"
      }
    },
    {
      "cell_type": "code",
      "source": [],
      "metadata": {
        "id": "iPzGzRh8M_4X"
      },
      "execution_count": null,
      "outputs": []
    },
    {
      "cell_type": "code",
      "source": [],
      "metadata": {
        "id": "7CcBnur9M_4X"
      },
      "execution_count": null,
      "outputs": []
    },
    {
      "cell_type": "code",
      "source": [],
      "metadata": {
        "id": "xk0R5urYM_4Y"
      },
      "execution_count": null,
      "outputs": []
    },
    {
      "cell_type": "markdown",
      "source": [
        "# 🤖 Topic #5: The Joy of Launch"
      ],
      "metadata": {
        "id": "lgCNT7GwNBOr"
      }
    },
    {
      "cell_type": "code",
      "source": [],
      "metadata": {
        "id": "xv8t_x2MNBOs"
      },
      "execution_count": null,
      "outputs": []
    },
    {
      "cell_type": "code",
      "source": [],
      "metadata": {
        "id": "-by7cUJvNBOs"
      },
      "execution_count": null,
      "outputs": []
    },
    {
      "cell_type": "code",
      "source": [],
      "metadata": {
        "id": "fPTDXQujNBOt"
      },
      "execution_count": null,
      "outputs": []
    }
  ]
}